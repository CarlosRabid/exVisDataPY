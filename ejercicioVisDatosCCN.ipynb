{
  "nbformat": 4,
  "nbformat_minor": 0,
  "metadata": {
    "colab": {
      "name": "ejercicioVisDatosCCN.ipynb",
      "provenance": [],
      "mount_file_id": "1wf8vKAkO1QVuYUgp0NcpaGzL6mxJn40a",
      "authorship_tag": "ABX9TyPsJI/GrVB5RVJyEj3uY7ZI",
      "include_colab_link": true
    },
    "kernelspec": {
      "name": "python3",
      "display_name": "Python 3"
    },
    "language_info": {
      "name": "python"
    }
  },
  "cells": [
    {
      "cell_type": "markdown",
      "metadata": {
        "id": "view-in-github",
        "colab_type": "text"
      },
      "source": [
        "<a href=\"https://colab.research.google.com/github/CarlosRabid/exVisDataPY/blob/main/ejercicioVisDatosCCN.ipynb\" target=\"_parent\"><img src=\"https://colab.research.google.com/assets/colab-badge.svg\" alt=\"Open In Colab\"/></a>"
      ]
    },
    {
      "cell_type": "markdown",
      "source": [
        "Carlos Cornejo"
      ],
      "metadata": {
        "id": "aD5IMORsZ1Zg"
      }
    },
    {
      "cell_type": "code",
      "execution_count": null,
      "metadata": {
        "id": "ZKhMlGGdZf3c"
      },
      "outputs": [],
      "source": [
        ""
      ]
    }
  ]
}